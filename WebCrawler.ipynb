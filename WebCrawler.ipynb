{
 "cells": [
  {
   "cell_type": "code",
   "execution_count": 5,
   "metadata": {},
   "outputs": [],
   "source": [
    "import pandas as pd\n",
    "from bs4 import BeautifulSoup as bs\n",
    "\n",
    "pd.set_option(\"display.max_colwidth\", 500)\n",
    "import re\n",
    "\n",
    "import requests\n",
    "\n",
    "x = 1\n",
    "rate = [i / 10 for i in range(10)]\n",
    "df = pd.DataFrame()\n",
    "urls = [\n",
    "    f\"https://nvd.nist.gov/vuln/detail/CVE-2019-{str(i).zfill(4)}\"\n",
    "    for i in range(1, 1645)\n",
    "]\n",
    "vulnerability = []\n",
    "CWE = []\n",
    "\n",
    "for url in urls:\n",
    "    page = requests.get(url)\n",
    "    soup = bs(page.content)\n",
    "    temp = [i for i in soup.find_all(string=re.compile(r\"^CWE-\\d\"))]\n",
    "    if len(temp) > 0:\n",
    "        CWE.append(temp[0])\n",
    "        # vulnerability.append(\"CVE-2019-\" + str(x).zfill(4))\n",
    "    x = x + 1\n",
    "    # time.sleep(random.choice(rate))\n",
    "\n",
    "# df['Vulnerability'] = vulnerability\n",
    "# df['CWE'] = pd.Series(CWE)\n",
    "df[\"CWE\"] = CWE\n",
    "df.to_csv(\"CWE list.csv\")"
   ]
  },
  {
   "cell_type": "code",
   "execution_count": null,
   "metadata": {
    "scrolled": true
   },
   "outputs": [],
   "source": []
  },
  {
   "cell_type": "code",
   "execution_count": null,
   "metadata": {
    "scrolled": true
   },
   "outputs": [],
   "source": []
  },
  {
   "cell_type": "code",
   "execution_count": null,
   "metadata": {},
   "outputs": [],
   "source": []
  }
 ],
 "metadata": {
  "kernelspec": {
   "display_name": "Python 3",
   "language": "python",
   "name": "python3"
  },
  "language_info": {
   "codemirror_mode": {
    "name": "ipython",
    "version": 3
   },
   "file_extension": ".py",
   "mimetype": "text/x-python",
   "name": "python",
   "nbconvert_exporter": "python",
   "pygments_lexer": "ipython3",
   "version": "3.8.3"
  }
 },
 "nbformat": 4,
 "nbformat_minor": 4
}
